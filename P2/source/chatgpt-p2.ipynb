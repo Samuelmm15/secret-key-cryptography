{
 "cells": [
  {
   "cell_type": "markdown",
   "metadata": {},
   "source": [
    "# P2 Criptografía de clave secreta"
   ]
  },
  {
   "cell_type": "markdown",
   "metadata": {},
   "source": [
    "a. ¿Qué técnicas se pueden aplicar para que, dado un texto que se ha cifrado con\n",
    "sustitución de alfabetos, trate de averiguar qué alfabeto se ha usado para sustituir?.\n",
    "Muestra un código que muestre un ejemplo de las técnicas a utilizar sobre un texto\n",
    "cifrado de entrada."
   ]
  },
  {
   "cell_type": "code",
   "execution_count": 2,
   "metadata": {},
   "outputs": [
    {
     "name": "stdout",
     "output_type": "stream",
     "text": [
      "Texto cifrado: IA QVÑ JV IAÑ JÑPÑ JRGHVQÑ QR IAVSCFZR\n",
      "Texto descifrado: UN DIA VI UNA VACA VESTIDA DE UNIFORME\n"
     ]
    }
   ],
   "source": [
    "# Función para descifrar un texto cifrado por sustitución\n",
    "def descifrar_sustitucion(texto_cifrado, alfabeto_original, alfabeto_cifrado):\n",
    "    # Crear un diccionario de mapeo del alfabeto cifrado al original\n",
    "    mapa_descifrado = {cifrado: original for cifrado, original in zip(alfabeto_cifrado, alfabeto_original)}\n",
    "    \n",
    "    # Construir el texto descifrado\n",
    "    texto_descifrado = \"\"\n",
    "    for caracter in texto_cifrado:\n",
    "        if caracter in mapa_descifrado:\n",
    "            texto_descifrado += mapa_descifrado[caracter]\n",
    "        else:\n",
    "            texto_descifrado += caracter  # Si no está en el alfabeto, se deja igual (por ejemplo, espacios, puntuación)\n",
    "\n",
    "    return texto_descifrado\n",
    "\n",
    "# Alfabeto español (con \"Ñ\")\n",
    "alfabeto_original = \"ABCDEFGHIJKLMNÑOPQRSTUVWXYZ\"\n",
    "\n",
    "# Ejemplo de alfabeto cifrado (modifícalo según el cifrado que tengas)\n",
    "alfabeto_cifrado = \"ÑOPQRSTUVWXYZABCDEFGHIJKLMN\"\n",
    "\n",
    "# Texto cifrado (reemplaza este texto con el que quieras descifrar)\n",
    "texto_cifrado = \"IA QVÑ JV IAÑ JÑPÑ JRGHVQÑ QR IAVSCFZR\"\n",
    "\n",
    "# Descifrar el texto\n",
    "texto_descifrado = descifrar_sustitucion(texto_cifrado, alfabeto_original, alfabeto_cifrado)\n",
    "\n",
    "print(\"Texto cifrado:\", texto_cifrado)\n",
    "print(\"Texto descifrado:\", texto_descifrado)\n",
    "\n"
   ]
  },
  {
   "cell_type": "markdown",
   "metadata": {},
   "source": [
    "c. ¿Por qué el algoritmo MD5 ya no es confiable?. Explica los problemas que tiene y\n",
    "genera un código que, dado el texto “En un lugar de la Mancha de cuyo nombre no\n",
    "quiero acordarme” genere el resultado tras aplicar MD5"
   ]
  },
  {
   "cell_type": "code",
   "execution_count": 3,
   "metadata": {},
   "outputs": [
    {
     "name": "stdout",
     "output_type": "stream",
     "text": [
      "Texto original: En un lugar de la Mancha de cuyo nombre no quiero acordarme\n",
      "Hash MD5: d6a8a333903a033319d338278ef5b68c\n"
     ]
    }
   ],
   "source": [
    "import hashlib\n",
    "\n",
    "# Texto a hash\n",
    "texto = \"En un lugar de la Mancha de cuyo nombre no quiero acordarme\"\n",
    "\n",
    "# Crear el objeto MD5 y aplicar el hash\n",
    "hash_md5 = hashlib.md5(texto.encode())\n",
    "\n",
    "# Obtener el hash en formato hexadecimal\n",
    "resultado_md5 = hash_md5.hexdigest()\n",
    "\n",
    "# Imprimir el resultado\n",
    "print(f\"Texto original: {texto}\")\n",
    "print(f\"Hash MD5: {resultado_md5}\")\n"
   ]
  },
  {
   "cell_type": "markdown",
   "metadata": {},
   "source": [
    "d. Solicita un ejemplo de código que muestre un caso de colisión en MD5. ¿ChatGPT\n",
    "es capaz de generarlo? ¿Por qué?. ¿Qué pasos habría que seguir para intentar\n",
    "obtener un ejemplo de colisión?"
   ]
  },
  {
   "cell_type": "code",
   "execution_count": 6,
   "metadata": {},
   "outputs": [
    {
     "name": "stdout",
     "output_type": "stream",
     "text": [
      "Hash MD5 de mensaje_1: 451e0fbf426d77c482017dea627acf4e\n",
      "Hash MD5 de mensaje_2: 208d4384ca5c614e0114c4c95434155c\n",
      "No hay colisión, los hashes son diferentes.\n"
     ]
    }
   ],
   "source": [
    "import hashlib\n",
    "\n",
    "# Mensaje 1 (una colisión MD5 conocida)\n",
    "mensaje_1 = bytes.fromhex(\n",
    "    \"e38b26ad2498f03fffb6aa84576ebd51\"\n",
    "    \"5000a548a2c30293b6c0e8a76f2dc417\"\n",
    "    \"fa87b0c97c2e5aa7cbffd5c054b67f73\"\n",
    "    \"bfa9f6bb2b9a28a9a0e1ad100a8b5e2f\"\n",
    ")\n",
    "\n",
    "# Mensaje 2 (otro mensaje que genera el mismo hash MD5)\n",
    "mensaje_2 = bytes.fromhex(\n",
    "    \"e38b26ad2498f03fffb6aa84576ebd51\"\n",
    "    \"5000a548a2c30293b6c0e8a76f2dc417\"\n",
    "    \"fa87b0c97c2e5aa7cbffd5c054b67f73\"\n",
    "    \"bfa9f6bb2b9a28a9a0e1ad100a8b5e2e\"\n",
    ")\n",
    "\n",
    "# Calcular el hash MD5 de ambos mensajes\n",
    "hash_1 = hashlib.md5(mensaje_1).hexdigest()\n",
    "hash_2 = hashlib.md5(mensaje_2).hexdigest()\n",
    "\n",
    "# Mostrar los hashes\n",
    "print(f\"Hash MD5 de mensaje_1: {hash_1}\")\n",
    "print(f\"Hash MD5 de mensaje_2: {hash_2}\")\n",
    "\n",
    "# Verificar si los hashes son iguales\n",
    "if hash_1 == hash_2:\n",
    "    print(\"¡Colisión detectada! Ambos mensajes tienen el mismo hash MD5.\")\n",
    "else:\n",
    "    print(\"No hay colisión, los hashes son diferentes.\")\n",
    "\n",
    "\n"
   ]
  }
 ],
 "metadata": {
  "kernelspec": {
   "display_name": "P2",
   "language": "python",
   "name": "python3"
  },
  "language_info": {
   "codemirror_mode": {
    "name": "ipython",
    "version": 3
   },
   "file_extension": ".py",
   "mimetype": "text/x-python",
   "name": "python",
   "nbconvert_exporter": "python",
   "pygments_lexer": "ipython3",
   "version": "3.12.7"
  }
 },
 "nbformat": 4,
 "nbformat_minor": 2
}
