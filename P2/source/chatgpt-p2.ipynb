{
 "cells": [
  {
   "cell_type": "markdown",
   "metadata": {},
   "source": [
    "# P2 Criptografía de clave secreta"
   ]
  },
  {
   "cell_type": "markdown",
   "metadata": {},
   "source": [
    "a. ¿Qué técnicas se pueden aplicar para que, dado un texto que se ha cifrado con\n",
    "sustitución de alfabetos, trate de averiguar qué alfabeto se ha usado para sustituir?.\n",
    "Muestra un código que muestre un ejemplo de las técnicas a utilizar sobre un texto\n",
    "cifrado de entrada."
   ]
  },
  {
   "cell_type": "code",
   "execution_count": 2,
   "metadata": {},
   "outputs": [
    {
     "name": "stdout",
     "output_type": "stream",
     "text": [
      "Texto cifrado: IA QVÑ JV IAÑ JÑPÑ JRGHVQÑ QR IAVSCFZR\n",
      "Texto descifrado: UN DIA VI UNA VACA VESTIDA DE UNIFORME\n"
     ]
    }
   ],
   "source": [
    "# Función para descifrar un texto cifrado por sustitución\n",
    "def descifrar_sustitucion(texto_cifrado, alfabeto_original, alfabeto_cifrado):\n",
    "    # Crear un diccionario de mapeo del alfabeto cifrado al original\n",
    "    mapa_descifrado = {cifrado: original for cifrado, original in zip(alfabeto_cifrado, alfabeto_original)}\n",
    "    \n",
    "    # Construir el texto descifrado\n",
    "    texto_descifrado = \"\"\n",
    "    for caracter in texto_cifrado:\n",
    "        if caracter in mapa_descifrado:\n",
    "            texto_descifrado += mapa_descifrado[caracter]\n",
    "        else:\n",
    "            texto_descifrado += caracter  # Si no está en el alfabeto, se deja igual (por ejemplo, espacios, puntuación)\n",
    "\n",
    "    return texto_descifrado\n",
    "\n",
    "# Alfabeto español (con \"Ñ\")\n",
    "alfabeto_original = \"ABCDEFGHIJKLMNÑOPQRSTUVWXYZ\"\n",
    "\n",
    "# Ejemplo de alfabeto cifrado (modifícalo según el cifrado que tengas)\n",
    "alfabeto_cifrado = \"ÑOPQRSTUVWXYZABCDEFGHIJKLMN\"\n",
    "\n",
    "# Texto cifrado (reemplaza este texto con el que quieras descifrar)\n",
    "texto_cifrado = \"IA QVÑ JV IAÑ JÑPÑ JRGHVQÑ QR IAVSCFZR\"\n",
    "\n",
    "# Descifrar el texto\n",
    "texto_descifrado = descifrar_sustitucion(texto_cifrado, alfabeto_original, alfabeto_cifrado)\n",
    "\n",
    "print(\"Texto cifrado:\", texto_cifrado)\n",
    "print(\"Texto descifrado:\", texto_descifrado)\n",
    "\n"
   ]
  },
  {
   "cell_type": "markdown",
   "metadata": {},
   "source": [
    "c. ¿Por qué el algoritmo MD5 ya no es confiable?. Explica los problemas que tiene y\n",
    "genera un código que, dado el texto “En un lugar de la Mancha de cuyo nombre no\n",
    "quiero acordarme” genere el resultado tras aplicar MD5"
   ]
  },
  {
   "cell_type": "code",
   "execution_count": 3,
   "metadata": {},
   "outputs": [
    {
     "name": "stdout",
     "output_type": "stream",
     "text": [
      "Texto original: En un lugar de la Mancha de cuyo nombre no quiero acordarme\n",
      "Hash MD5: d6a8a333903a033319d338278ef5b68c\n"
     ]
    }
   ],
   "source": [
    "import hashlib\n",
    "\n",
    "# Texto a hash\n",
    "texto = \"En un lugar de la Mancha de cuyo nombre no quiero acordarme\"\n",
    "\n",
    "# Crear el objeto MD5 y aplicar el hash\n",
    "hash_md5 = hashlib.md5(texto.encode())\n",
    "\n",
    "# Obtener el hash en formato hexadecimal\n",
    "resultado_md5 = hash_md5.hexdigest()\n",
    "\n",
    "# Imprimir el resultado\n",
    "print(f\"Texto original: {texto}\")\n",
    "print(f\"Hash MD5: {resultado_md5}\")\n"
   ]
  },
  {
   "cell_type": "markdown",
   "metadata": {},
   "source": [
    "d. Solicita un ejemplo de código que muestre un caso de colisión en MD5. ¿ChatGPT\n",
    "es capaz de generarlo? ¿Por qué?. ¿Qué pasos habría que seguir para intentar\n",
    "obtener un ejemplo de colisión?"
   ]
  },
  {
   "cell_type": "code",
   "execution_count": 6,
   "metadata": {},
   "outputs": [
    {
     "name": "stdout",
     "output_type": "stream",
     "text": [
      "Hash MD5 de mensaje_1: 451e0fbf426d77c482017dea627acf4e\n",
      "Hash MD5 de mensaje_2: 208d4384ca5c614e0114c4c95434155c\n",
      "No hay colisión, los hashes son diferentes.\n"
     ]
    }
   ],
   "source": [
    "import hashlib\n",
    "\n",
    "# Mensaje 1 (una colisión MD5 conocida)\n",
    "mensaje_1 = bytes.fromhex(\n",
    "    \"e38b26ad2498f03fffb6aa84576ebd51\"\n",
    "    \"5000a548a2c30293b6c0e8a76f2dc417\"\n",
    "    \"fa87b0c97c2e5aa7cbffd5c054b67f73\"\n",
    "    \"bfa9f6bb2b9a28a9a0e1ad100a8b5e2f\"\n",
    ")\n",
    "\n",
    "# Mensaje 2 (otro mensaje que genera el mismo hash MD5)\n",
    "mensaje_2 = bytes.fromhex(\n",
    "    \"e38b26ad2498f03fffb6aa84576ebd51\"\n",
    "    \"5000a548a2c30293b6c0e8a76f2dc417\"\n",
    "    \"fa87b0c97c2e5aa7cbffd5c054b67f73\"\n",
    "    \"bfa9f6bb2b9a28a9a0e1ad100a8b5e2e\"\n",
    ")\n",
    "\n",
    "# Calcular el hash MD5 de ambos mensajes\n",
    "hash_1 = hashlib.md5(mensaje_1).hexdigest()\n",
    "hash_2 = hashlib.md5(mensaje_2).hexdigest()\n",
    "\n",
    "# Mostrar los hashes\n",
    "print(f\"Hash MD5 de mensaje_1: {hash_1}\")\n",
    "print(f\"Hash MD5 de mensaje_2: {hash_2}\")\n",
    "\n",
    "# Verificar si los hashes son iguales\n",
    "if hash_1 == hash_2:\n",
    "    print(\"¡Colisión detectada! Ambos mensajes tienen el mismo hash MD5.\")\n",
    "else:\n",
    "    print(\"No hay colisión, los hashes son diferentes.\")\n",
    "\n",
    "\n"
   ]
  },
  {
   "cell_type": "markdown",
   "metadata": {},
   "source": [
    "e. Genera un código Python con un algoritmo de cifrado simétrico. Introduce el texto\n",
    "del apartado “c” y escribe el resultado del texto cifrado, indicando el algoritmo\n",
    "usado y una descripción del mismo así con una posible debilidad de este tipo de\n",
    "algoritmos."
   ]
  },
  {
   "cell_type": "code",
   "execution_count": 3,
   "metadata": {},
   "outputs": [
    {
     "name": "stdout",
     "output_type": "stream",
     "text": [
      "Requirement already satisfied: pycryptodome in /Users/samuelmartinmorales/Documents/Secret-key-cryptography/P1/lib/python3.12/site-packages (3.21.0)\n",
      "Note: you may need to restart the kernel to use updated packages.\n",
      "Clave secreta (hex): fc08d59155175658b843c7538053bc5d\n",
      "Vector de inicialización (IV) (hex): a2f9af4f4994eb70c9ee39d6d5cd6393\n",
      "Texto cifrado (hex): 7a5f709391d337e0bb788e6fc145f3b988724be50e745709d2c2dd6df2e7aae3502757b31b4fabf7b73d9f3cecae755a36bdb8de02ffbae9e75d3d0bae167057\n"
     ]
    }
   ],
   "source": [
    "%pip install pycryptodome\n",
    "\n",
    "from Crypto.Cipher import AES\n",
    "from Crypto.Util.Padding import pad\n",
    "from Crypto.Random import get_random_bytes\n",
    "\n",
    "# Mensaje a cifrar\n",
    "mensaje = \"En un lugar de la Mancha de cuyo nombre no quiero acordarme\"\n",
    "\n",
    "# Generar una clave secreta de 16 bytes (AES-128)\n",
    "clave_secreta = get_random_bytes(16)\n",
    "\n",
    "# Generar un vector de inicialización (IV) de 16 bytes\n",
    "iv = get_random_bytes(16)\n",
    "\n",
    "# Crear un objeto de cifrado AES en modo CBC\n",
    "cipher = AES.new(clave_secreta, AES.MODE_CBC, iv)\n",
    "\n",
    "# Cifrar el mensaje (es necesario rellenar el mensaje para que sea múltiplo del tamaño del bloque)\n",
    "mensaje_cifrado = cipher.encrypt(pad(mensaje.encode(), AES.block_size))\n",
    "\n",
    "# Mostrar resultados\n",
    "print(f\"Clave secreta (hex): {clave_secreta.hex()}\")\n",
    "print(f\"Vector de inicialización (IV) (hex): {iv.hex()}\")\n",
    "print(f\"Texto cifrado (hex): {mensaje_cifrado.hex()}\")\n"
   ]
  },
  {
   "cell_type": "markdown",
   "metadata": {},
   "source": [
    "f. Realiza un nuevo código con un algoritmo asimétrico (RSA con longitud de clave de\n",
    "64bits) de tal manera que se explique paso a paso el proceso seguido y el motivo\n",
    "de la vulnerabilidad que presenta el usar claves de este tamaño. ¿Ese código\n",
    "presenta algún error al ejecutarse? ¿Por qué?. Finalmente usa una clave de 512 bits\n",
    "y muestra la clave pública y privada generadas por el código en formato PEM."
   ]
  },
  {
   "cell_type": "code",
   "execution_count": 4,
   "metadata": {},
   "outputs": [
    {
     "name": "stdout",
     "output_type": "stream",
     "text": [
      "Requirement already satisfied: pycryptodome in /Users/samuelmartinmorales/Documents/Secret-key-cryptography/P1/lib/python3.12/site-packages (3.21.0)\n",
      "Note: you may need to restart the kernel to use updated packages.\n"
     ]
    },
    {
     "ename": "ValueError",
     "evalue": "RSA modulus length must be >= 1024",
     "output_type": "error",
     "traceback": [
      "\u001b[0;31m---------------------------------------------------------------------------\u001b[0m",
      "\u001b[0;31mValueError\u001b[0m                                Traceback (most recent call last)",
      "Cell \u001b[0;32mIn[4], line 7\u001b[0m\n\u001b[1;32m      4\u001b[0m \u001b[38;5;28;01mfrom\u001b[39;00m \u001b[38;5;21;01mCrypto\u001b[39;00m\u001b[38;5;21;01m.\u001b[39;00m\u001b[38;5;21;01mCipher\u001b[39;00m \u001b[38;5;28;01mimport\u001b[39;00m PKCS1_OAEP\n\u001b[1;32m      6\u001b[0m \u001b[38;5;66;03m# Generar un par de claves RSA con longitud de 64 bits (extremadamente inseguro)\u001b[39;00m\n\u001b[0;32m----> 7\u001b[0m clave_rsa \u001b[38;5;241m=\u001b[39m \u001b[43mRSA\u001b[49m\u001b[38;5;241;43m.\u001b[39;49m\u001b[43mgenerate\u001b[49m\u001b[43m(\u001b[49m\u001b[38;5;241;43m64\u001b[39;49m\u001b[43m)\u001b[49m\n\u001b[1;32m      9\u001b[0m \u001b[38;5;66;03m# Extraer la clave pública y privada\u001b[39;00m\n\u001b[1;32m     10\u001b[0m clave_publica \u001b[38;5;241m=\u001b[39m clave_rsa\u001b[38;5;241m.\u001b[39mpublickey()\n",
      "File \u001b[0;32m~/Documents/Secret-key-cryptography/P1/lib/python3.12/site-packages/Crypto/PublicKey/RSA.py:488\u001b[0m, in \u001b[0;36mgenerate\u001b[0;34m(bits, randfunc, e)\u001b[0m\n\u001b[1;32m    458\u001b[0m \u001b[38;5;250m\u001b[39m\u001b[38;5;124;03m\"\"\"Create a new RSA key pair.\u001b[39;00m\n\u001b[1;32m    459\u001b[0m \n\u001b[1;32m    460\u001b[0m \u001b[38;5;124;03mThe algorithm closely follows NIST `FIPS 186-4`_ in its\u001b[39;00m\n\u001b[0;32m   (...)\u001b[0m\n\u001b[1;32m    484\u001b[0m \u001b[38;5;124;03m.. _FIPS 186-4: http://nvlpubs.nist.gov/nistpubs/FIPS/NIST.FIPS.186-4.pdf\u001b[39;00m\n\u001b[1;32m    485\u001b[0m \u001b[38;5;124;03m\"\"\"\u001b[39;00m\n\u001b[1;32m    487\u001b[0m \u001b[38;5;28;01mif\u001b[39;00m bits \u001b[38;5;241m<\u001b[39m \u001b[38;5;241m1024\u001b[39m:\n\u001b[0;32m--> 488\u001b[0m     \u001b[38;5;28;01mraise\u001b[39;00m \u001b[38;5;167;01mValueError\u001b[39;00m(\u001b[38;5;124m\"\u001b[39m\u001b[38;5;124mRSA modulus length must be >= 1024\u001b[39m\u001b[38;5;124m\"\u001b[39m)\n\u001b[1;32m    489\u001b[0m \u001b[38;5;28;01mif\u001b[39;00m e \u001b[38;5;241m%\u001b[39m \u001b[38;5;241m2\u001b[39m \u001b[38;5;241m==\u001b[39m \u001b[38;5;241m0\u001b[39m \u001b[38;5;129;01mor\u001b[39;00m e \u001b[38;5;241m<\u001b[39m \u001b[38;5;241m3\u001b[39m:\n\u001b[1;32m    490\u001b[0m     \u001b[38;5;28;01mraise\u001b[39;00m \u001b[38;5;167;01mValueError\u001b[39;00m(\u001b[38;5;124m\"\u001b[39m\u001b[38;5;124mRSA public exponent must be a positive, odd integer larger than 2.\u001b[39m\u001b[38;5;124m\"\u001b[39m)\n",
      "\u001b[0;31mValueError\u001b[0m: RSA modulus length must be >= 1024"
     ]
    }
   ],
   "source": [
    "%pip install pycryptodome\n",
    "\n",
    "from Crypto.PublicKey import RSA\n",
    "from Crypto.Cipher import PKCS1_OAEP\n",
    "\n",
    "# Generar un par de claves RSA con longitud de 64 bits (extremadamente inseguro)\n",
    "clave_rsa = RSA.generate(64)\n",
    "\n",
    "# Extraer la clave pública y privada\n",
    "clave_publica = clave_rsa.publickey()\n",
    "clave_privada = clave_rsa\n",
    "\n",
    "# Crear el cifrador utilizando la clave pública\n",
    "cifrador = PKCS1_OAEP.new(clave_publica)\n",
    "\n",
    "# Mensaje a cifrar\n",
    "mensaje = \"En un lugar de la Mancha de cuyo nombre no quiero acordarme\"\n",
    "\n",
    "# Cifrar el mensaje\n",
    "mensaje_cifrado = cifrador.encrypt(mensaje.encode())\n",
    "\n",
    "# Mostrar el mensaje cifrado en formato hexadecimal\n",
    "print(f\"Mensaje cifrado (hex): {mensaje_cifrado.hex()}\")\n",
    "\n",
    "# Crear el descifrador utilizando la clave privada\n",
    "descifrador = PKCS1_OAEP.new(clave_privada)\n",
    "\n",
    "# Descifrar el mensaje\n",
    "mensaje_descifrado = descifrador.decrypt(mensaje_cifrado)\n",
    "\n",
    "# Mostrar el mensaje descifrado\n",
    "print(f\"Mensaje descifrado: {mensaje_descifrado.decode()}\")\n"
   ]
  },
  {
   "cell_type": "code",
   "execution_count": 5,
   "metadata": {},
   "outputs": [
    {
     "name": "stdout",
     "output_type": "stream",
     "text": [
      "Requirement already satisfied: pycryptodome in /Users/samuelmartinmorales/Documents/Secret-key-cryptography/P1/lib/python3.12/site-packages (3.21.0)\n",
      "Note: you may need to restart the kernel to use updated packages.\n"
     ]
    },
    {
     "ename": "ValueError",
     "evalue": "RSA modulus length must be >= 1024",
     "output_type": "error",
     "traceback": [
      "\u001b[0;31m---------------------------------------------------------------------------\u001b[0m",
      "\u001b[0;31mValueError\u001b[0m                                Traceback (most recent call last)",
      "Cell \u001b[0;32mIn[5], line 7\u001b[0m\n\u001b[1;32m      4\u001b[0m \u001b[38;5;28;01mfrom\u001b[39;00m \u001b[38;5;21;01mCrypto\u001b[39;00m\u001b[38;5;21;01m.\u001b[39;00m\u001b[38;5;21;01mCipher\u001b[39;00m \u001b[38;5;28;01mimport\u001b[39;00m PKCS1_OAEP\n\u001b[1;32m      6\u001b[0m \u001b[38;5;66;03m# Generar un par de claves RSA con longitud de 512 bits\u001b[39;00m\n\u001b[0;32m----> 7\u001b[0m clave_rsa \u001b[38;5;241m=\u001b[39m \u001b[43mRSA\u001b[49m\u001b[38;5;241;43m.\u001b[39;49m\u001b[43mgenerate\u001b[49m\u001b[43m(\u001b[49m\u001b[38;5;241;43m512\u001b[39;49m\u001b[43m)\u001b[49m\n\u001b[1;32m      9\u001b[0m \u001b[38;5;66;03m# Extraer la clave pública y privada en formato PEM\u001b[39;00m\n\u001b[1;32m     10\u001b[0m clave_publica_pem \u001b[38;5;241m=\u001b[39m clave_rsa\u001b[38;5;241m.\u001b[39mpublickey()\u001b[38;5;241m.\u001b[39mexport_key()\u001b[38;5;241m.\u001b[39mdecode()\n",
      "File \u001b[0;32m~/Documents/Secret-key-cryptography/P1/lib/python3.12/site-packages/Crypto/PublicKey/RSA.py:488\u001b[0m, in \u001b[0;36mgenerate\u001b[0;34m(bits, randfunc, e)\u001b[0m\n\u001b[1;32m    458\u001b[0m \u001b[38;5;250m\u001b[39m\u001b[38;5;124;03m\"\"\"Create a new RSA key pair.\u001b[39;00m\n\u001b[1;32m    459\u001b[0m \n\u001b[1;32m    460\u001b[0m \u001b[38;5;124;03mThe algorithm closely follows NIST `FIPS 186-4`_ in its\u001b[39;00m\n\u001b[0;32m   (...)\u001b[0m\n\u001b[1;32m    484\u001b[0m \u001b[38;5;124;03m.. _FIPS 186-4: http://nvlpubs.nist.gov/nistpubs/FIPS/NIST.FIPS.186-4.pdf\u001b[39;00m\n\u001b[1;32m    485\u001b[0m \u001b[38;5;124;03m\"\"\"\u001b[39;00m\n\u001b[1;32m    487\u001b[0m \u001b[38;5;28;01mif\u001b[39;00m bits \u001b[38;5;241m<\u001b[39m \u001b[38;5;241m1024\u001b[39m:\n\u001b[0;32m--> 488\u001b[0m     \u001b[38;5;28;01mraise\u001b[39;00m \u001b[38;5;167;01mValueError\u001b[39;00m(\u001b[38;5;124m\"\u001b[39m\u001b[38;5;124mRSA modulus length must be >= 1024\u001b[39m\u001b[38;5;124m\"\u001b[39m)\n\u001b[1;32m    489\u001b[0m \u001b[38;5;28;01mif\u001b[39;00m e \u001b[38;5;241m%\u001b[39m \u001b[38;5;241m2\u001b[39m \u001b[38;5;241m==\u001b[39m \u001b[38;5;241m0\u001b[39m \u001b[38;5;129;01mor\u001b[39;00m e \u001b[38;5;241m<\u001b[39m \u001b[38;5;241m3\u001b[39m:\n\u001b[1;32m    490\u001b[0m     \u001b[38;5;28;01mraise\u001b[39;00m \u001b[38;5;167;01mValueError\u001b[39;00m(\u001b[38;5;124m\"\u001b[39m\u001b[38;5;124mRSA public exponent must be a positive, odd integer larger than 2.\u001b[39m\u001b[38;5;124m\"\u001b[39m)\n",
      "\u001b[0;31mValueError\u001b[0m: RSA modulus length must be >= 1024"
     ]
    }
   ],
   "source": [
    "%pip install pycryptodome\n",
    "\n",
    "from Crypto.PublicKey import RSA\n",
    "from Crypto.Cipher import PKCS1_OAEP\n",
    "\n",
    "# Generar un par de claves RSA con longitud de 512 bits\n",
    "clave_rsa = RSA.generate(512)\n",
    "\n",
    "# Extraer la clave pública y privada en formato PEM\n",
    "clave_publica_pem = clave_rsa.publickey().export_key().decode()\n",
    "clave_privada_pem = clave_rsa.export_key().decode()\n",
    "\n",
    "# Crear el cifrador utilizando la clave pública\n",
    "cifrador = PKCS1_OAEP.new(clave_rsa.publickey())\n",
    "\n",
    "# Mensaje a cifrar\n",
    "mensaje = \"En un lugar de la Mancha de cuyo nombre no quiero acordarme\"\n",
    "\n",
    "# Cifrar el mensaje\n",
    "mensaje_cifrado = cifrador.encrypt(mensaje.encode())\n",
    "\n",
    "# Mostrar las claves pública y privada en formato PEM\n",
    "print(\"Clave pública (PEM):\\n\", clave_publica_pem)\n",
    "print(\"\\nClave privada (PEM):\\n\", clave_privada_pem)\n",
    "\n",
    "# Mostrar el mensaje cifrado en formato hexadecimal\n",
    "print(f\"\\nMensaje cifrado (hex): {mensaje_cifrado.hex()}\")\n",
    "\n",
    "# Crear el descifrador utilizando la clave privada\n",
    "descifrador = PKCS1_OAEP.new(clave_rsa)\n",
    "\n",
    "# Descifrar el mensaje\n",
    "mensaje_descifrado = descifrador.decrypt(mensaje_cifrado)\n",
    "\n",
    "# Mostrar el mensaje descifrado\n",
    "print(f\"\\nMensaje descifrado: {mensaje_descifrado.decode()}\")\n"
   ]
  },
  {
   "cell_type": "markdown",
   "metadata": {},
   "source": [
    "i. Genera un código para aplicar el algoritmo ChaCha20 en Python."
   ]
  },
  {
   "cell_type": "code",
   "execution_count": 6,
   "metadata": {},
   "outputs": [
    {
     "name": "stdout",
     "output_type": "stream",
     "text": [
      "Collecting cryptography\n",
      "  Downloading cryptography-43.0.1-cp39-abi3-macosx_10_9_universal2.whl.metadata (5.4 kB)\n",
      "Collecting cffi>=1.12 (from cryptography)\n",
      "  Downloading cffi-1.17.1-cp312-cp312-macosx_11_0_arm64.whl.metadata (1.5 kB)\n",
      "Collecting pycparser (from cffi>=1.12->cryptography)\n",
      "  Downloading pycparser-2.22-py3-none-any.whl.metadata (943 bytes)\n",
      "Downloading cryptography-43.0.1-cp39-abi3-macosx_10_9_universal2.whl (6.2 MB)\n",
      "\u001b[2K   \u001b[90m━━━━━━━━━━━━━━━━━━━━━━━━━━━━━━━━━━━━━━━━\u001b[0m \u001b[32m6.2/6.2 MB\u001b[0m \u001b[31m10.5 MB/s\u001b[0m eta \u001b[36m0:00:00\u001b[0ma \u001b[36m0:00:01\u001b[0m\n",
      "\u001b[?25hDownloading cffi-1.17.1-cp312-cp312-macosx_11_0_arm64.whl (178 kB)\n",
      "Downloading pycparser-2.22-py3-none-any.whl (117 kB)\n",
      "Installing collected packages: pycparser, cffi, cryptography\n",
      "Successfully installed cffi-1.17.1 cryptography-43.0.1 pycparser-2.22\n",
      "Note: you may need to restart the kernel to use updated packages.\n"
     ]
    },
    {
     "ename": "ValueError",
     "evalue": "nonce must be 128-bits (16 bytes)",
     "output_type": "error",
     "traceback": [
      "\u001b[0;31m---------------------------------------------------------------------------\u001b[0m",
      "\u001b[0;31mValueError\u001b[0m                                Traceback (most recent call last)",
      "Cell \u001b[0;32mIn[6], line 17\u001b[0m\n\u001b[1;32m     14\u001b[0m mensaje \u001b[38;5;241m=\u001b[39m \u001b[38;5;124mb\u001b[39m\u001b[38;5;124m\"\u001b[39m\u001b[38;5;124mEn un lugar de la Mancha de cuyo nombre no quiero acordarme\u001b[39m\u001b[38;5;124m\"\u001b[39m\n\u001b[1;32m     16\u001b[0m \u001b[38;5;66;03m# Crear el cifrador ChaCha20\u001b[39;00m\n\u001b[0;32m---> 17\u001b[0m cifrador \u001b[38;5;241m=\u001b[39m Cipher(\u001b[43malgorithms\u001b[49m\u001b[38;5;241;43m.\u001b[39;49m\u001b[43mChaCha20\u001b[49m\u001b[43m(\u001b[49m\u001b[43mclave\u001b[49m\u001b[43m,\u001b[49m\u001b[43m \u001b[49m\u001b[43mnonce\u001b[49m\u001b[43m)\u001b[49m, mode\u001b[38;5;241m=\u001b[39m\u001b[38;5;28;01mNone\u001b[39;00m, backend\u001b[38;5;241m=\u001b[39mdefault_backend())\u001b[38;5;241m.\u001b[39mencryptor()\n\u001b[1;32m     19\u001b[0m \u001b[38;5;66;03m# Cifrar el mensaje\u001b[39;00m\n\u001b[1;32m     20\u001b[0m mensaje_cifrado \u001b[38;5;241m=\u001b[39m cifrador\u001b[38;5;241m.\u001b[39mupdate(mensaje)\n",
      "File \u001b[0;32m~/Documents/Secret-key-cryptography/P1/lib/python3.12/site-packages/cryptography/hazmat/primitives/ciphers/algorithms.py:154\u001b[0m, in \u001b[0;36mChaCha20.__init__\u001b[0;34m(self, key, nonce)\u001b[0m\n\u001b[1;32m    151\u001b[0m utils\u001b[38;5;241m.\u001b[39m_check_byteslike(\u001b[38;5;124m\"\u001b[39m\u001b[38;5;124mnonce\u001b[39m\u001b[38;5;124m\"\u001b[39m, nonce)\n\u001b[1;32m    153\u001b[0m \u001b[38;5;28;01mif\u001b[39;00m \u001b[38;5;28mlen\u001b[39m(nonce) \u001b[38;5;241m!=\u001b[39m \u001b[38;5;241m16\u001b[39m:\n\u001b[0;32m--> 154\u001b[0m     \u001b[38;5;28;01mraise\u001b[39;00m \u001b[38;5;167;01mValueError\u001b[39;00m(\u001b[38;5;124m\"\u001b[39m\u001b[38;5;124mnonce must be 128-bits (16 bytes)\u001b[39m\u001b[38;5;124m\"\u001b[39m)\n\u001b[1;32m    156\u001b[0m \u001b[38;5;28mself\u001b[39m\u001b[38;5;241m.\u001b[39m_nonce \u001b[38;5;241m=\u001b[39m nonce\n",
      "\u001b[0;31mValueError\u001b[0m: nonce must be 128-bits (16 bytes)"
     ]
    }
   ],
   "source": [
    "%pip install cryptography\n",
    "\n",
    "from cryptography.hazmat.primitives.ciphers import Cipher, algorithms, modes\n",
    "from cryptography.hazmat.backends import default_backend\n",
    "import os\n",
    "\n",
    "# Generar una clave de 256 bits (32 bytes) para ChaCha20\n",
    "clave = os.urandom(32)\n",
    "\n",
    "# Generar un nonce de 96 bits (12 bytes) para ChaCha20\n",
    "nonce = os.urandom(12)\n",
    "\n",
    "# Mensaje a cifrar\n",
    "mensaje = b\"En un lugar de la Mancha de cuyo nombre no quiero acordarme\"\n",
    "\n",
    "# Crear el cifrador ChaCha20\n",
    "cifrador = Cipher(algorithms.ChaCha20(clave, nonce), mode=None, backend=default_backend()).encryptor()\n",
    "\n",
    "# Cifrar el mensaje\n",
    "mensaje_cifrado = cifrador.update(mensaje)\n",
    "\n",
    "# Mostrar la clave, el nonce y el mensaje cifrado en formato hexadecimal\n",
    "print(f\"Clave (hex): {clave.hex()}\")\n",
    "print(f\"Nonce (hex): {nonce.hex()}\")\n",
    "print(f\"Mensaje cifrado (hex): {mensaje_cifrado.hex()}\")\n",
    "\n",
    "# Crear el descifrador ChaCha20\n",
    "descifrador = Cipher(algorithms.ChaCha20(clave, nonce), mode=None, backend=default_backend()).decryptor()\n",
    "\n",
    "# Descifrar el mensaje\n",
    "mensaje_descifrado = descifrador.update(mensaje_cifrado)\n",
    "\n",
    "# Mostrar el mensaje descifrado\n",
    "print(f\"Mensaje descifrado: {mensaje_descifrado.decode()}\")\n"
   ]
  }
 ],
 "metadata": {
  "kernelspec": {
   "display_name": "P2",
   "language": "python",
   "name": "python3"
  },
  "language_info": {
   "codemirror_mode": {
    "name": "ipython",
    "version": 3
   },
   "file_extension": ".py",
   "mimetype": "text/x-python",
   "name": "python",
   "nbconvert_exporter": "python",
   "pygments_lexer": "ipython3",
   "version": "3.12.7"
  }
 },
 "nbformat": 4,
 "nbformat_minor": 2
}
