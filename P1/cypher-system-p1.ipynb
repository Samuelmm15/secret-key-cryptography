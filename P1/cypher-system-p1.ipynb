{
 "cells": [
  {
   "cell_type": "markdown",
   "metadata": {},
   "source": [
    "## Sistema básico de cifrado"
   ]
  },
  {
   "cell_type": "markdown",
   "metadata": {},
   "source": [
    "1. Realizar en pseudocódigo los pasos necesarios para generar un cifrado por\n",
    "sustitución empleando el siguiente alfabeto de sustitución:\n",
    "\n",
    "```\n",
    "ÑOPQRSTUVWXYZABCDEFGHIJKLMN\n",
    "```\n",
    "\n",
    "El alfabeto que se hace uso es el siguiente: \n",
    "\n",
    "```\n",
    "ABCDEFGHIJKLMNÑOPQRSTUVWXYZ\n",
    "```"
   ]
  },
  {
   "cell_type": "markdown",
   "metadata": {},
   "source": [
    "Pseudocódigo:\n",
    "\n",
    "```plaintext\n",
    "1. Inicio\n",
    "2. Leer mensaje\n",
    "3. Leer alfabeto\n",
    "4. Leer mensaje_cifrado\n",
    "5. Para i=0 hasta longitud(mensaje) hacer\n",
    "6.     Para j=0 hasta longitud(alfabeto) hacer\n",
    "7.         Si mensaje[i] == alfabeto[j] entonces\n",
    "8.             mensaje_cifrado = mensaje_cifrado + alfabeto[j]\n",
    "9.         Fin Si\n",
    "10.     Fin Para\n",
    "11. Fin Para\n",
    "12. Escribir mensaje_cifrado\n",
    "13. Fin\n",
    "```"
   ]
  },
  {
   "cell_type": "markdown",
   "metadata": {},
   "source": [
    "Teniendo en cuenta el pseudocódigo anterior se procede a la implementación del algoritmo de cifrado y descifrado en Python.\n"
   ]
  },
  {
   "cell_type": "code",
   "execution_count": 6,
   "metadata": {},
   "outputs": [
    {
     "name": "stdout",
     "output_type": "stream",
     "text": [
      "El mensaje cifrado es:  UBYÑ ZHAQB\n"
     ]
    }
   ],
   "source": [
    "# Implementación del algoritmo de cifrado\n",
    "alfabeto_base=\"ABCDEFGHIJKLMNÑOPQRSTUVWXYZ\"\n",
    "alfabeto_sustitución=\"ÑOPQRSTUVWXYZABCDEFGHIJKLMN\"\n",
    "cipher_message=\"\"\n",
    "message_to_operate=input(\"Introduce el mensaje a cifrar: \")\n",
    "\n",
    "for i in range(len(message_to_operate)):\n",
    "    for j in range(len(alfabeto_base)):\n",
    "        if message_to_operate[i].upper() == alfabeto_base[j]:\n",
    "            cipher_message+=alfabeto_sustitución[j]\n",
    "            break\n",
    "    if message_to_operate[i].upper() not in alfabeto_base:\n",
    "        cipher_message+=message_to_operate[i]\n",
    "        \n",
    "print(\"El mensaje cifrado es: \",cipher_message)"
   ]
  },
  {
   "cell_type": "code",
   "execution_count": 10,
   "metadata": {},
   "outputs": [
    {
     "name": "stdout",
     "output_type": "stream",
     "text": [
      "El mensaje descifrado es:  UN DIA VI UNA VACA VESTIDA DE UNIFORME\n"
     ]
    }
   ],
   "source": [
    "# Implementación del algoritmo de descifrado\n",
    "alfabeto_base=\"ABCDEFGHIJKLMNÑOPQRSTUVWXYZ\"\n",
    "alfabeto_sustitución=\"ÑOPQRSTUVWXYZABCDEFGHIJKLMN\"\n",
    "decipher_message=\"\"\n",
    "message_to_operate=input(\"Introduce el mensaje a descifrar: \")\n",
    "\n",
    "for i in range(len(message_to_operate)):\n",
    "    for j in range(len(alfabeto_sustitución)):\n",
    "        if message_to_operate[i].upper() == alfabeto_sustitución[j]:\n",
    "            decipher_message+=alfabeto_base[j]\n",
    "            break\n",
    "    if message_to_operate[i].upper() not in alfabeto_sustitución:\n",
    "        decipher_message+=message_to_operate[i]\n",
    "        \n",
    "print(\"El mensaje descifrado es: \",decipher_message)"
   ]
  },
  {
   "cell_type": "code",
   "execution_count": null,
   "metadata": {},
   "outputs": [],
   "source": [
    "# Programa que unifica el cifrado y el descifrado mediante un menú\n",
    "alfabeto_base=\"ABCDEFGHIJKLMNÑOPQRSTUVWXYZ\"\n",
    "alfabeto_sustitución=\"ÑOPQRSTUVWXYZABCDEFGHIJKLMN\"\n",
    "cipher_message=\"\"\n",
    "decipher_message=\"\"\n",
    "message_to_operate=\"\"\n",
    "option=0\n",
    "\n",
    "while option!=3:\n",
    "    print(\"1. Cifrar mensaje\")\n",
    "    print(\"2. Descifrar mensaje\")\n",
    "    print(\"3. Salir\")\n",
    "    option=int(input(\"Introduce la opción deseada: \"))\n",
    "    if option==1:\n",
    "        message_to_operate=input(\"Introduce el mensaje a cifrar: \")\n",
    "        for letter in message_to_operate:\n",
    "            if letter.upper() in alfabeto_base:\n",
    "                cipher_message+=alfabeto_sustitución[alfabeto_base.index(letter.upper())]\n",
    "            else:\n",
    "                cipher_message+=letter\n",
    "        print(\"El mensaje cifrado es: \",cipher_message)\n",
    "        cipher_message=\"\"\n",
    "    elif option==2:\n",
    "        message_to_operate=input(\"Introduce el mensaje a descifrar: \")\n",
    "        for letter in message_to_operate:\n",
    "            if letter.upper() in alfabeto_sustitución:\n",
    "                decipher_message+=alfabeto_base[alfabeto_sustitución.index(letter.upper())]\n",
    "            else:\n",
    "                decipher_message+=letter\n",
    "        print(\"El mensaje descifrado es: \",decipher_message)\n",
    "        decipher_message=\"\"\n",
    "    elif option==3:\n",
    "        print(\"Fin del programa\")\n",
    "    else:\n",
    "        print(\"Opción incorrecta\")"
   ]
  },
  {
   "cell_type": "markdown",
   "metadata": {},
   "source": [
    "2. ¿Qué mensaje resulta al descifrar el siguiente texto?\n",
    "\n",
    "```\n",
    "IA QVÑ JV IAÑ JÑPÑ JRGHVQÑ QR IAVSCFZR\n",
    "```"
   ]
  },
  {
   "cell_type": "markdown",
   "metadata": {},
   "source": [
    "El mensaje descifrado es:\n",
    "\n",
    "```\n",
    "UN DIA VI UNA VACA VESTIDA DE UNIFORME\n",
    "```"
   ]
  },
  {
   "cell_type": "markdown",
   "metadata": {},
   "source": [
    "3. ¿Qué modificaciones serían necesarias para utilizar 2 alfabetos de sustitución, de\n",
    "tal manera que las letras impares utilizaran el primer alfabeto y las pares el\n",
    "segundo alfabeto?"
   ]
  },
  {
   "cell_type": "markdown",
   "metadata": {},
   "source": [
    "Realmente para que fueran necesarios dos alfabetos de sustitución lo que se debería de comprobar cuando se está cifrado o descifrando es la posición de la letra del mensaje que se está usando para operar, ya que, de esta manera si la posición de la letra es par o impar, pues se produce que se usa un alfabeto u otro. Es por ello que, el algoritmo que se debe de implementar es igual que anteriormente, pero, con la diferencia de que se debe de comprobar si la posición de la letra es par o impar para poder cifrar o descifrar el mensaje."
   ]
  },
  {
   "cell_type": "markdown",
   "metadata": {},
   "source": [
    "4. Realiza un programa en Python que realiza el cifrado en base a estos 2 alfabetos\n",
    "de sustitución según lo indicado en el apartado anterior:\n",
    "- Alfabeto 1: ```ÑOPQRSTUVWXYZABCDEFGHIJKLMN```\n",
    "- Alfabeto 2: ```ZYXWVUTSRQPOÑNMLKJIHGFEDCBA```"
   ]
  },
  {
   "cell_type": "code",
   "execution_count": null,
   "metadata": {},
   "outputs": [],
   "source": [
    "# Programa que se encarga del cifrado de mensajes mediante dos alfabetos de sustitución\n",
    "alfabeto_base=\"ABCDEFGHIJKLMNÑOPQRSTUVWXYZ\"\n",
    "alfabeto_sustitución_impar=\"ÑOPQRSTUVWXYZABCDEFGHIJKLMN\"\n",
    "alfabeto_sustitución_par=\"ZYXWVUTSRQPOÑNMLKJIHGFEDCBA\"\n",
    "message_to_operate=\"\"\n",
    "cipher_message=\"\"\n",
    "\n",
    "message_to_operate=input(\"Introduce el mensaje a cifrar: \")\n",
    "\n",
    "for i in range(len(message_to_operate)):\n",
    "  if i%2==0:\n",
    "    for j in range(len(alfabeto_base)):\n",
    "      if message_to_operate[i].upper() == alfabeto_base[j]:\n",
    "        cipher_message+=alfabeto_sustitución_impar[j]\n",
    "        break\n",
    "    if message_to_operate[i].upper() not in alfabeto_base:\n",
    "      cipher_message+=message_to_operate[i]\n",
    "  else:\n",
    "    for j in range(len(alfabeto_base)):\n",
    "      if message_to_operate[i].upper() == alfabeto_base[j]:\n",
    "        cipher_message+=alfabeto_sustitución_par[j]\n",
    "        break\n",
    "    if message_to_operate[i].upper() not in alfabeto_base:\n",
    "      cipher_message+=message_to_operate[i]\n",
    "      \n",
    "print(\"El mensaje cifrado es: \",cipher_message)"
   ]
  },
  {
   "cell_type": "code",
   "execution_count": 12,
   "metadata": {},
   "outputs": [
    {
     "name": "stdout",
     "output_type": "stream",
     "text": [
      "El mensaje descifrado es:  SI HAS LLEGADO HASTA AQUÍ TE ESPERAN RETOS MUY INTERESANTES EN TU FUTURO PROXIMO\n"
     ]
    }
   ],
   "source": [
    "# Programa que se encarga del descifrado de mensajes mediante dos alfabetos de sustitución\n",
    "alfabeto_base=\"ABCDEFGHIJKLMNÑOPQRSTUVWXYZ\"\n",
    "alfabeto_sustitución_impar=\"ÑOPQRSTUVWXYZABCDEFGHIJKLMN\"\n",
    "alfabeto_sustitución_par=\"ZYXWVUTSRQPOÑNMLKJIHGFEDCBA\"\n",
    "message_to_operate=\"\"\n",
    "decipher_message=\"\"\n",
    "\n",
    "message_to_operate=input(\"Introduce el mensaje a descifrar: \")\n",
    "\n",
    "for i in range(len(message_to_operate)):\n",
    "  if i%2==0:\n",
    "    for j in range(len(alfabeto_sustitución_impar)):\n",
    "      if message_to_operate[i].upper() == alfabeto_sustitución_impar[j]:\n",
    "        decipher_message+=alfabeto_base[j]\n",
    "        break\n",
    "    if message_to_operate[i].upper() not in alfabeto_sustitución_impar:\n",
    "      decipher_message+=message_to_operate[i]\n",
    "  else:\n",
    "    for j in range(len(alfabeto_sustitución_par)):\n",
    "      if message_to_operate[i].upper() == alfabeto_sustitución_par[j]:\n",
    "        decipher_message+=alfabeto_base[j]\n",
    "        break\n",
    "    if message_to_operate[i].upper() not in alfabeto_sustitución_par:\n",
    "      decipher_message+=message_to_operate[i]\n",
    "      \n",
    "print(\"El mensaje descifrado es: \",decipher_message)"
   ]
  },
  {
   "cell_type": "markdown",
   "metadata": {},
   "source": [
    "5. ¿Qué mensaje oculta el texto siguiente?\n",
    "```\n",
    "GR SÑH OYVTZQL SÑHHZ ZEFÍ HV VGKRIÑN IRGCH ÑIB RAGRIRHÑNHVG RN GI\n",
    "SFHFFL KFLLRZL\n",
    "```\n",
    "\n",
    "EL mensaje oculto es:\n",
    "```\n",
    "SI HAS LLEGADO HASTA AQUÍ TE ESPERAN RETOS MUY INTERESANTES EN TU FUTURO PROXIMO\n",
    "```"
   ]
  },
  {
   "cell_type": "markdown",
   "metadata": {},
   "source": [
    "## Cifrado César"
   ]
  },
  {
   "cell_type": "markdown",
   "metadata": {},
   "source": [
    "a. Realizar en pseudocódigo los pasos necesarios para implementar un cifrado César."
   ]
  },
  {
   "cell_type": "markdown",
   "metadata": {},
   "source": [
    "Pseudocódigo:\n",
    "\n",
    "```plaintext\n",
    "1. Inicio\n",
    "2. Leer mensaje\n",
    "3. Leer mensaje_cifrado\n",
    "4. Leer desplazamiento\n",
    "5. Para i=0 hasta longitud(mensaje) hacer\n",
    "6.     mensaje_cifrado = mensaje_cifrado + alfabeto[(posicion(mensaje[i]) + desplazamiento) mod longitud(alfabeto)]\n",
    "7. Fin Para\n",
    "8. Escribir mensaje_cifrado\n",
    "9. Fin\n",
    "```"
   ]
  },
  {
   "cell_type": "markdown",
   "metadata": {},
   "source": [
    "b. Trasladar el pseudocódigo a un programa en Python con las siguientes \n",
    "características:\n",
    "- Utilizará un alfabeto de 27 caracteres, incluyendo la Ñ.\n",
    "- Debe de solicitar el mensaje a cifrar y la clave a utilizar.\n",
    "- Como salida del programa, se debe de mostrar en pantalla el mensaje original y el mensaje cifrado."
   ]
  },
  {
   "cell_type": "code",
   "execution_count": 2,
   "metadata": {},
   "outputs": [
    {
     "name": "stdout",
     "output_type": "stream",
     "text": [
      "El mensaje cifrado es:  WYBLIH\n",
      "Clave de cifrado:  7\n",
      "El mensaje original es:  Prueba\n"
     ]
    }
   ],
   "source": [
    "# Cifrado césar\n",
    "alfabeto_base=\"ABCDEFGHIJKLMNÑOPQRSTUVWXYZ\"\n",
    "message_to_operate=\"\"\n",
    "cipher_message=\"\"\n",
    "key=0\n",
    "\n",
    "message_to_operate=input(\"Introduce el mensaje a cifrar: \")\n",
    "key=int(input(\"Introduce la clave de cifrado: \"))\n",
    "key=key%27\n",
    "\n",
    "for i in range(len(message_to_operate)):\n",
    "  for j in range(len(alfabeto_base)):\n",
    "    if message_to_operate[i].upper() == alfabeto_base[j]:\n",
    "      cipher_message+=alfabeto_base[(j+key)%27]\n",
    "      break\n",
    "  if message_to_operate[i].upper() not in alfabeto_base:\n",
    "    cipher_message+=message_to_operate[i]\n",
    "    \n",
    "print(\"El mensaje cifrado es: \",cipher_message)\n",
    "print(\"Clave de cifrado: \",key)\n",
    "print(\"El mensaje original es: \",message_to_operate)"
   ]
  },
  {
   "cell_type": "markdown",
   "metadata": {},
   "source": [
    "c. Realizar  en  pseudo  código  los  pasos  necesarios  para  hacer  un  programa  que \n",
    "ataque por fuerza bruta un mensaje previamente cifrado con César."
   ]
  },
  {
   "cell_type": "markdown",
   "metadata": {},
   "source": [
    "Pseudocódigo:\n",
    "\n",
    "```plaintext\n",
    "1. Inicio\n",
    "2. Leer mensaje_cifrado\n",
    "3. Para i=0 hasta longitud(alfabeto) hacer\n",
    "4.     mensaje_descifrado = \"\"\n",
    "5.     Para j=0 hasta longitud(mensaje_cifrado) hacer\n",
    "6.         mensaje_descifrado = mensaje_descifrado + alfabeto[(posicion(mensaje_cifrado[j]) - i) mod longitud(alfabeto)]\n",
    "7.     Fin Para\n",
    "8.     Escribir mensaje_descifrado\n",
    "9. Fin Para\n",
    "10. Fin\n",
    "```"
   ]
  },
  {
   "cell_type": "markdown",
   "metadata": {},
   "source": [
    "d. Transladar el pseudocódigo a un programa en Python con las siguientes características:\n",
    "- Partimos de la hipótesis de que trabajamos con un alfabeto de 27 caracteres, incluyendo la Ñ.\n",
    "- Debe de solicitar el mensaje cifrado, objeto del ataque.\n",
    "- Mostrará como salidas todos los intentos de descifrado que se han realizado."
   ]
  },
  {
   "cell_type": "code",
   "execution_count": 3,
   "metadata": {},
   "outputs": [
    {
     "name": "stdout",
     "output_type": "stream",
     "text": [
      "El mensaje descifrado es:  PRUEBA\n",
      "Clave de cifrado:  7\n",
      "El mensaje original es:  WYBLIH\n"
     ]
    }
   ],
   "source": [
    "# Descifrado césar\n",
    "alfabeto_base=\"ABCDEFGHIJKLMNÑOPQRSTUVWXYZ\"\n",
    "message_to_operate=\"\"\n",
    "decipher_message=\"\"\n",
    "key=0\n",
    "\n",
    "message_to_operate=input(\"Introduce el mensaje a descifrar: \")\n",
    "key=int(input(\"Introduce la clave de cifrado: \"))\n",
    "\n",
    "for i in range(len(message_to_operate)):\n",
    "  for j in range(len(alfabeto_base)):\n",
    "    if message_to_operate[i].upper() == alfabeto_base[j]:\n",
    "      decipher_message+=alfabeto_base[(j-key)%27]\n",
    "      break\n",
    "  if message_to_operate[i].upper() not in alfabeto_base:\n",
    "    decipher_message+=message_to_operate[i]\n",
    "    \n",
    "print(\"El mensaje descifrado es: \",decipher_message)\n",
    "print(\"Clave de cifrado: \",key)\n",
    "print(\"El mensaje original es: \",message_to_operate)"
   ]
  }
 ],
 "metadata": {
  "kernelspec": {
   "display_name": "Python 3",
   "language": "python",
   "name": "python3"
  },
  "language_info": {
   "codemirror_mode": {
    "name": "ipython",
    "version": 3
   },
   "file_extension": ".py",
   "mimetype": "text/x-python",
   "name": "python",
   "nbconvert_exporter": "python",
   "pygments_lexer": "ipython3",
   "version": "3.12.7"
  }
 },
 "nbformat": 4,
 "nbformat_minor": 2
}
